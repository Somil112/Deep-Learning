{
  "nbformat": 4,
  "nbformat_minor": 0,
  "metadata": {
    "colab": {
      "name": "MusicGeneration.ipynb",
      "version": "0.3.2",
      "provenance": [],
      "toc_visible": true
    },
    "kernelspec": {
      "name": "python3",
      "display_name": "Python 3"
    },
    "accelerator": "GPU"
  },
  "cells": [
    {
      "metadata": {
        "id": "vEt7nhPfECRl",
        "colab_type": "code",
        "colab": {}
      },
      "cell_type": "code",
      "source": [
        "!pip install music21"
      ],
      "execution_count": 0,
      "outputs": []
    },
    {
      "metadata": {
        "id": "vPEySOzdFn8F",
        "colab_type": "text"
      },
      "cell_type": "markdown",
      "source": [
        "# Importing files from google drive"
      ]
    },
    {
      "metadata": {
        "id": "oQyfqcfuEluk",
        "colab_type": "code",
        "colab": {}
      },
      "cell_type": "code",
      "source": [
        "from google.colab import drive\n",
        "drive.mount('/content/drive')"
      ],
      "execution_count": 0,
      "outputs": []
    },
    {
      "metadata": {
        "id": "f2YgUm10GI97",
        "colab_type": "text"
      },
      "cell_type": "markdown",
      "source": [
        "# Importing the required libraries"
      ]
    },
    {
      "metadata": {
        "id": "u-0tKbiyGNGD",
        "colab_type": "code",
        "colab": {}
      },
      "cell_type": "code",
      "source": [
        "import glob\n",
        "import pickle\n",
        "import numpy as np\n",
        "from music21 import converter, instrument, note, chord\n",
        "from keras.models import Sequential\n",
        "from keras.layers import Dense\n",
        "from keras.layers import Dropout\n",
        "from keras.layers import LSTM\n",
        "from keras.layers import Activation\n",
        "from keras.utils import np_utils\n",
        "from keras.callbacks import ModelCheckpoint\n",
        "import tensorflow as tf\n",
        "\n"
      ],
      "execution_count": 0,
      "outputs": []
    },
    {
      "metadata": {
        "id": "4VfsUvTKGh3z",
        "colab_type": "text"
      },
      "cell_type": "markdown",
      "source": [
        "# Function for training the network\n"
      ]
    },
    {
      "metadata": {
        "id": "ZlsVYIw_G4-z",
        "colab_type": "code",
        "colab": {}
      },
      "cell_type": "code",
      "source": [
        "def train_network():\n",
        "  #Getting the notes of the music\n",
        "  \n",
        "  notes = get_notes()\n",
        "  \n",
        "  #defining the length of our vocabulary\n",
        "  \n",
        "  n_vocab = len(set(notes))\n",
        "  \n",
        "  #preparing sequences\n",
        "  \n",
        "  network_input, network_output = prepare_sequences(notes, n_vocab)\n",
        "  \n",
        "  #Creating the model\n",
        "  \n",
        "  model=create_network(network_input, n_vocab)\n",
        "  \n",
        "  #training the model\n",
        "  \n",
        "  train(model, network_input, network_output)"
      ],
      "execution_count": 0,
      "outputs": []
    },
    {
      "metadata": {
        "id": "vUNkn9fpI1fK",
        "colab_type": "text"
      },
      "cell_type": "markdown",
      "source": [
        "# Getting the notes from midi files"
      ]
    },
    {
      "metadata": {
        "id": "WvrVf9PSJBda",
        "colab_type": "code",
        "colab": {}
      },
      "cell_type": "code",
      "source": [
        "def get_notes():\n",
        "  \n",
        "  notes = []\n",
        "  \n",
        "  for file in glob.glob(\"drive/My Drive/RapMusic/*.mid\"):\n",
        "    \n",
        "    midi = converter.parse(file)\n",
        "    \n",
        "    print(\"Parsing %s\" %file)\n",
        "    \n",
        "    parts = instrument.partitionByInstrument(midi)\n",
        "    \n",
        "    notes_to_parse = None\n",
        "    \n",
        "    # file has instrument parts\n",
        "    \n",
        "    if parts: \n",
        "      \n",
        "      notes_to_parse = parts.parts[0].recurse\n",
        "    \n",
        "    else: \n",
        "    # file has notes in a flat structure\n",
        "      \n",
        "      notes_to_parse = midi.flat.notes\n",
        "\n",
        "  for element in notes_to_parse:\n",
        "    \n",
        "    if isinstance(element, note.Note):\n",
        "      \n",
        "      notes.append(str(element.pitch))\n",
        "      \n",
        "    elif isinstance(element, chord.Chord):\n",
        "      \n",
        "      notes.append('.'.join(str(n) for n in element.normalOrder))\n",
        "            \n",
        "\n",
        "            \n",
        "  return notes\n",
        "\n",
        "\n",
        "     "
      ],
      "execution_count": 0,
      "outputs": []
    },
    {
      "metadata": {
        "id": "TnrYEOLwLYPK",
        "colab_type": "text"
      },
      "cell_type": "markdown",
      "source": [
        "# Preparing sequences for your model"
      ]
    },
    {
      "metadata": {
        "id": "_ejdVSwZLg95",
        "colab_type": "code",
        "colab": {}
      },
      "cell_type": "code",
      "source": [
        "def prepare_sequences(notes, n_vocab):\n",
        "  \n",
        "  sequence_length = 100\n",
        "  \n",
        "  pitchnames=sorted(set(item for item in notes))\n",
        "  \n",
        "  note_to_int=dict((note,number) for number,note in enumerate(pitchnames))\n",
        "  \n",
        "  network_input = []\n",
        "  \n",
        "  network_output = []\n",
        "  \n",
        "  for i in range(0,len(notes)-sequence_length,1):\n",
        "    \n",
        "    sequence_in = notes[i:i+sequence_length]\n",
        "    \n",
        "    sequence_out = notes[i + sequence_length]\n",
        "    \n",
        "    network_input.append([note_to_int[char] for char in sequence_in])\n",
        "    \n",
        "    network_output.append(note_to_int[sequence_out])\n",
        "    \n",
        "  n_patterns=len(network_input)\n",
        "  \n",
        "  network_input = np.reshape(network_input, (n_patterns,sequence_length,1))\n",
        "  \n",
        "  network_input = network_input/float(n_vocab)\n",
        "  \n",
        "  network_output=np_utils.to_categorical(network_output)\n",
        "    \n",
        "  return (network_input, network_output)\n",
        "    "
      ],
      "execution_count": 0,
      "outputs": []
    },
    {
      "metadata": {
        "id": "3HmBDAhrez6L",
        "colab_type": "text"
      },
      "cell_type": "markdown",
      "source": [
        "# Creating the model"
      ]
    },
    {
      "metadata": {
        "id": "FrcjrTK9fBwM",
        "colab_type": "code",
        "colab": {}
      },
      "cell_type": "code",
      "source": [
        "def create_network(network_input, n_vocab):\n",
        "  \n",
        "  model=Sequential()\n",
        "  \n",
        "  model.add(LSTM(512,input_shape=(network_input.shape[1],network_input.shape[2]),return_sequences=True))\n",
        "  \n",
        "  model.add(Dropout(0.4))\n",
        "  \n",
        "  model.add(LSTM(512,return_sequences=True))\n",
        "  \n",
        "  model.add(Dropout(0.3))\n",
        "  \n",
        "  model.add(LSTM(512))\n",
        "  \n",
        "  model.add(Dense(256))\n",
        "  \n",
        "  model.add(Dropout(0.3))\n",
        "  \n",
        "  model.add(Dense(n_vocab))\n",
        "  \n",
        "  model.add(Activation('softmax'))\n",
        "  \n",
        "  model.compile(loss='categorical_crossentropy', optimizer='rmsprop')\n",
        "  \n",
        "  return model\n"
      ],
      "execution_count": 0,
      "outputs": []
    },
    {
      "metadata": {
        "id": "QQYr1LG-iopX",
        "colab_type": "text"
      },
      "cell_type": "markdown",
      "source": [
        "# Training your model"
      ]
    },
    {
      "metadata": {
        "id": "TceDhwB1ivWt",
        "colab_type": "code",
        "colab": {}
      },
      "cell_type": "code",
      "source": [
        "def train(model, network_input, network_output):\n",
        "    \"\"\" train the neural network \"\"\"\n",
        "    filepath = \"weights-improvement-{epoch:02d}-{loss:.4f}-bigger.hdf5\"\n",
        "    checkpoint = ModelCheckpoint(\n",
        "        filepath,\n",
        "        monitor='loss',\n",
        "        verbose=0,\n",
        "        save_best_only=True,\n",
        "        mode='min'\n",
        "    )\n",
        "    callbacks_list = [checkpoint]\n",
        "\n",
        "    model.fit(network_input, network_output, epochs=200, batch_size=64, callbacks=callbacks_list)\n",
        "\n",
        "if __name__ == '__main__':\n",
        "    train_network()"
      ],
      "execution_count": 0,
      "outputs": []
    }
  ]
}
